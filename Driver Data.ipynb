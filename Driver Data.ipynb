{
 "cells": [
  {
   "cell_type": "code",
   "execution_count": null,
   "metadata": {},
   "outputs": [],
   "source": [
    "import pandas as pd\n",
    "import folium\n",
    "from collections import Counter\n",
    "import numpy as np\n",
    "import json"
   ]
  },
  {
   "cell_type": "code",
   "execution_count": null,
   "metadata": {},
   "outputs": [],
   "source": [
    "#Read in CSV \n",
    "Drivers = pd.read_csv('Transportation_Network_Providers_-_Drivers.csv',sep=',')\n",
    "Drivers.head()"
   ]
  },
  {
   "cell_type": "code",
   "execution_count": null,
   "metadata": {},
   "outputs": [],
   "source": [
    "# Find drivers with more than 0 trips\n",
    "Drivers_More_Than1 = Drivers[Drivers['NUMBER_OF_TRIPS']>0]\n",
    "\n",
    "# Get subset of fields\n",
    "Subset = Drivers_More_Than1[['ZIP','NUMBER_OF_TRIPS']]\n",
    "\n",
    "# Remove all non zero values\n",
    "Final = Subset[~Subset.applymap(np.isreal).all(1)]\n",
    "Final_Zips = Final.groupby('ZIP').count()[0:-7].reindex()\n",
    "Final_Zips = Final_Zips[~Final_Zips.index.str.contains(\"-\")]\n",
    "\n",
    "Final_Zips.index = pd.to_numeric(Final_Zips.index, errors='coerce')\n",
    "\n",
    "# Subset data to only Illinois Zip Codes\n",
    "Final_Zips = Final_Zips[Final_Zips.index >59999]\n",
    "Final_Zips = Final_Zips[Final_Zips.index <70000]\n",
    "Final_Zips.head()"
   ]
  },
  {
   "cell_type": "code",
   "execution_count": null,
   "metadata": {},
   "outputs": [],
   "source": [
    "# Get list of zip codes\n",
    "Zips = list(Final_Zips.index)"
   ]
  },
  {
   "cell_type": "code",
   "execution_count": null,
   "metadata": {},
   "outputs": [],
   "source": [
    "# Pull in geojson\n",
    "with open('il_illinois_zip_codes_geo.min.json','r') as jsonFile:\n",
    "    data = json.load(jsonFile)\n",
    "data"
   ]
  },
  {
   "cell_type": "code",
   "execution_count": null,
   "metadata": {},
   "outputs": [],
   "source": [
    "# Loop through geojson to only return a subset of all features for the map\n",
    "tmp = data\n",
    "geozips = []\n",
    "for i in range(len(tmp['features'])):\n",
    "    if int(tmp['features'][i]['properties']['ZCTA5CE10']) in Zips:\n",
    "        geozips.append(tmp['features'][i])\n",
    "new_json = dict.fromkeys(['type','features'])\n",
    "new_json['type'] = 'FeatureCollection'\n",
    "new_json['features'] = geozips"
   ]
  },
  {
   "cell_type": "code",
   "execution_count": null,
   "metadata": {},
   "outputs": [],
   "source": [
    "# Save new json\n",
    "open('updated-geojson-il.json','w').write(\n",
    "json.dumps(new_json,sort_keys=True,indent=4,separators=(',',': '))\n",
    ")"
   ]
  },
  {
   "cell_type": "code",
   "execution_count": null,
   "metadata": {},
   "outputs": [],
   "source": [
    "Final_Zips.reset_index(inplace=True)\n",
    "Final_Zips['ZIP'] = Final_Zips['ZIP'].apply(str)\n",
    "Final_Zips.head()"
   ]
  },
  {
   "cell_type": "code",
   "execution_count": null,
   "metadata": {},
   "outputs": [],
   "source": [
    "m = folium.Map(location=[41.8781, -87.6298],width=500,height=700)\n",
    "folium.Choropleth(\n",
    "    geo_data=new_json,\n",
    "    name='choropleth',\n",
    "    data=Final_Zips,\n",
    "    columns=['ZIP','NUMBER_OF_TRIPS'],\n",
    "    key_on='feature.properties.ZCTA5CE10',\n",
    "    fill_color='YlGn',\n",
    "    fill_opacity=0.7,\n",
    "    line_opacity=0.2,\n",
    "    legend_name='Number of Rideshare Drivers'\n",
    ").add_to(m)\n",
    "\n",
    "folium.LayerControl().add_to(m)\n",
    "\n",
    "m"
   ]
  },
  {
   "cell_type": "code",
   "execution_count": null,
   "metadata": {},
   "outputs": [],
   "source": [
    "m.save('index.html')"
   ]
  },
  {
   "cell_type": "code",
   "execution_count": null,
   "metadata": {},
   "outputs": [],
   "source": []
  }
 ],
 "metadata": {
  "kernelspec": {
   "display_name": "Python 3",
   "language": "python",
   "name": "python3"
  },
  "language_info": {
   "codemirror_mode": {
    "name": "ipython",
    "version": 3
   },
   "file_extension": ".py",
   "mimetype": "text/x-python",
   "name": "python",
   "nbconvert_exporter": "python",
   "pygments_lexer": "ipython3",
   "version": "3.7.1"
  }
 },
 "nbformat": 4,
 "nbformat_minor": 2
}
